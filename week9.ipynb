{
  "nbformat": 4,
  "nbformat_minor": 0,
  "metadata": {
    "colab": {
      "name": "week9.ipynb",
      "provenance": [],
      "authorship_tag": "ABX9TyOIfxAm8zfzIAs0lh+8Xl1u",
      "include_colab_link": true
    },
    "kernelspec": {
      "name": "python3",
      "display_name": "Python 3"
    }
  },
  "cells": [
    {
      "cell_type": "markdown",
      "metadata": {
        "id": "view-in-github",
        "colab_type": "text"
      },
      "source": [
        "<a href=\"https://colab.research.google.com/github/cuteeee153/Computational-Thinking/blob/master/week9.ipynb\" target=\"_parent\"><img src=\"https://colab.research.google.com/assets/colab-badge.svg\" alt=\"Open In Colab\"/></a>"
      ]
    },
    {
      "cell_type": "code",
      "metadata": {
        "id": "5IOYSqXyFwVQ",
        "outputId": "25599b28-555c-4fbd-fc68-d42159a799fe",
        "colab": {
          "base_uri": "https://localhost:8080/"
        }
      },
      "source": [
        "座號=int(input(\"請輸入座號\"))\n",
        "組別=(座號-1)//5+1\n",
        "print(\"組別是\",組別)"
      ],
      "execution_count": null,
      "outputs": [
        {
          "output_type": "stream",
          "text": [
            "請輸入座號19\n",
            "組別是 4\n"
          ],
          "name": "stdout"
        }
      ]
    }
  ]
}