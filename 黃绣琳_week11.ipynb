{
  "nbformat": 4,
  "nbformat_minor": 0,
  "metadata": {
    "colab": {
      "name": "黃绣琳-week11.ipynb",
      "provenance": [],
      "authorship_tag": "ABX9TyMtbiGBFt7U6LlveF3vV9TG",
      "include_colab_link": true
    },
    "kernelspec": {
      "name": "python3",
      "display_name": "Python 3"
    }
  },
  "cells": [
    {
      "cell_type": "markdown",
      "metadata": {
        "id": "view-in-github",
        "colab_type": "text"
      },
      "source": [
        "<a href=\"https://colab.research.google.com/github/cuteeee153/Computational-Thinking/blob/master/%E9%BB%83%E7%BB%A3%E7%90%B3_week11.ipynb\" target=\"_parent\"><img src=\"https://colab.research.google.com/assets/colab-badge.svg\" alt=\"Open In Colab\"/></a>"
      ]
    },
    {
      "cell_type": "markdown",
      "metadata": {
        "id": "4ZtOZnyBn_iu"
      },
      "source": [
        "習題解答:報告分組"
      ]
    },
    {
      "cell_type": "code",
      "metadata": {
        "colab": {
          "base_uri": "https://localhost:8080/"
        },
        "id": "QBOSrbQ3n9TW",
        "outputId": "31034e38-1413-4c3d-86ca-d8b9915fe50d"
      },
      "source": [
        "#方法(一):商數\n",
        "## Input\n",
        "number =input(\"Enter your seat number?\")\n",
        "number =int(number)\n",
        "## Process\n",
        "group = (number -1) // 5+1\n",
        "## Output\n",
        "print(\"Groups is\",group)"
      ],
      "execution_count": null,
      "outputs": [
        {
          "output_type": "stream",
          "text": [
            "Enter your seat number?19\n",
            "Groups is 4\n"
          ],
          "name": "stdout"
        }
      ]
    }
  ]
}