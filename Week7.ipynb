{
  "nbformat": 4,
  "nbformat_minor": 0,
  "metadata": {
    "colab": {
      "name": "Untitled8.ipynb",
      "provenance": [],
      "authorship_tag": "ABX9TyOeUIdZojDaCZdh3qa29Pg7",
      "include_colab_link": true
    },
    "kernelspec": {
      "name": "python3",
      "display_name": "Python 3"
    }
  },
  "cells": [
    {
      "cell_type": "markdown",
      "metadata": {
        "id": "view-in-github",
        "colab_type": "text"
      },
      "source": [
        "<a href=\"https://colab.research.google.com/github/cuteeee153/Computational-Thinking/blob/master/Week7.ipynb\" target=\"_parent\"><img src=\"https://colab.research.google.com/assets/colab-badge.svg\" alt=\"Open In Colab\"/></a>"
      ]
    },
    {
      "cell_type": "code",
      "metadata": {
        "id": "TkLnwkJgDJYA"
      },
      "source": [
        "magic_number=(18**2+5)+(32%7)*1\n",
        "print=(magic_number)"
      ],
      "execution_count": 15,
      "outputs": []
    },
    {
      "cell_type": "code",
      "metadata": {
        "id": "XXpafJeFKMxO",
        "outputId": "f85f01c5-e23f-4953-c1f2-896cf92177b6",
        "colab": {
          "base_uri": "https://localhost:8080/"
        }
      },
      "source": [
        "magic_number=(5**3+175)+(27%4)*11\n",
        "print(magic_number)"
      ],
      "execution_count": 4,
      "outputs": [
        {
          "output_type": "stream",
          "text": [
            "333\n"
          ],
          "name": "stdout"
        }
      ]
    },
    {
      "cell_type": "markdown",
      "metadata": {
        "id": "hrUxCjo6Rt1u"
      },
      "source": [
        "加分題\n",
        "1.\tC\n",
        "2.\tB\n",
        "3.\tA\n",
        "4.\tC\n",
        "5.\tA\n",
        "6.\tA\n",
        "7.\tA\n",
        "8.\tD\n",
        "9.\tB\n",
        "10.\tC\n",
        "11.\tB\n",
        "12.\tD\n",
        "13.\tA\n",
        "14.\tC\n",
        "15.\tB"
      ]
    }
  ]
}