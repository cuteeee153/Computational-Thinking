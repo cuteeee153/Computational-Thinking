{
  "nbformat": 4,
  "nbformat_minor": 0,
  "metadata": {
    "colab": {
      "name": "week8.ipynb",
      "provenance": [],
      "authorship_tag": "ABX9TyO0TwGIGvl4vXJo2hJqBg2y",
      "include_colab_link": true
    },
    "kernelspec": {
      "name": "python3",
      "display_name": "Python 3"
    }
  },
  "cells": [
    {
      "cell_type": "markdown",
      "metadata": {
        "id": "view-in-github",
        "colab_type": "text"
      },
      "source": [
        "<a href=\"https://colab.research.google.com/github/cuteeee153/Computational-Thinking/blob/master/week8.ipynb\" target=\"_parent\"><img src=\"https://colab.research.google.com/assets/colab-badge.svg\" alt=\"Open In Colab\"/></a>"
      ]
    },
    {
      "cell_type": "markdown",
      "metadata": {
        "id": "4iI-3LJsWlbR"
      },
      "source": [
        "習題１"
      ]
    },
    {
      "cell_type": "code",
      "metadata": {
        "id": "eFbWxlNjRWs3",
        "outputId": "d9adfdc1-ed28-4d4c-8eaf-1d3e93edfefa",
        "colab": {
          "base_uri": "https://localhost:8080/"
        }
      },
      "source": [
        "cloth=int(input(30))\n",
        "trousers=int(input(20))\n",
        "vest=int(input(25))\n",
        "\n",
        "total=cloth*300+trousers*350+vest*400\n",
        "\n",
        "print(26000,total)"
      ],
      "execution_count": 13,
      "outputs": [
        {
          "output_type": "stream",
          "text": [
            "3030\n",
            "2020\n",
            "2525\n",
            "26000 26000\n"
          ],
          "name": "stdout"
        }
      ]
    },
    {
      "cell_type": "markdown",
      "metadata": {
        "id": "XEzkJkkCWua2"
      },
      "source": [
        "習題２"
      ]
    },
    {
      "cell_type": "code",
      "metadata": {
        "id": "9-x9pvupUVoy",
        "outputId": "cf0daa9e-48a0-4131-b812-9306c4ee5d48",
        "colab": {
          "base_uri": "https://localhost:8080/"
        }
      },
      "source": [
        "cans=int(input(60))\n",
        "total=(cans//12)*200+(cans%12)*20\n",
        "print(1000,total)"
      ],
      "execution_count": 20,
      "outputs": [
        {
          "output_type": "stream",
          "text": [
            "6060\n",
            "1000 1000\n"
          ],
          "name": "stdout"
        }
      ]
    },
    {
      "cell_type": "markdown",
      "metadata": {
        "id": "fUr5Ba8jWxIO"
      },
      "source": [
        "習題３"
      ]
    },
    {
      "cell_type": "code",
      "metadata": {
        "id": "uiPho390VLQm",
        "outputId": "a35e572b-d159-488d-84db-cbaec3975c57",
        "colab": {
          "base_uri": "https://localhost:8080/"
        }
      },
      "source": [
        "fir=int(input(75))\n",
        "sec=int(input(80))\n",
        "final=int(input(65))\n",
        "\n",
        "sum=fir+sec+final\n",
        "avg=sum/3\n",
        "print(sum,avg)"
      ],
      "execution_count": 25,
      "outputs": [
        {
          "output_type": "stream",
          "text": [
            "7575\n",
            "8080\n",
            "6565\n",
            "220 73.33333333333333\n"
          ],
          "name": "stdout"
        }
      ]
    }
  ]
}